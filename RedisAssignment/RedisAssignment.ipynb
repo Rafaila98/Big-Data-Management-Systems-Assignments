{
 "cells": [
  {
   "cell_type": "markdown",
   "metadata": {},
   "source": [
    "# Redis Assignment\n",
    "Rafaila Galanopoulou 8160018 \\\n",
    "Big Data Management Systems Course 2020 \\\n",
    "Professor: Damianos Chatziantoniou"
   ]
  },
  {
   "cell_type": "code",
   "execution_count": 1,
   "metadata": {},
   "outputs": [],
   "source": [
    "import redis\n",
    "import random \n",
    "import pandas as pd\n",
    "import numpy as np"
   ]
  },
  {
   "cell_type": "markdown",
   "metadata": {},
   "source": [
    "### Data Creation for the scope of project"
   ]
  },
  {
   "cell_type": "code",
   "execution_count": 2,
   "metadata": {},
   "outputs": [],
   "source": [
    "# Generates a random number between \n",
    "# a given positive range \n",
    "df = pd.DataFrame(np.random.randint(0,20,size=(50, 2)), columns=['ID', 'Transaction'])\n",
    "df.Transaction = df.Transaction.apply(lambda x: f\"T{x}\")"
   ]
  },
  {
   "cell_type": "code",
   "execution_count": 3,
   "metadata": {},
   "outputs": [],
   "source": [
    "df.to_csv('sample.csv')\n",
    "df.to_excel('sample.xlsx')"
   ]
  },
  {
   "cell_type": "markdown",
   "metadata": {},
   "source": [
    "### Connect with Redis"
   ]
  },
  {
   "cell_type": "code",
   "execution_count": 4,
   "metadata": {},
   "outputs": [],
   "source": [
    "# define our connection information for Redis\n",
    "# Replaces with your configuration information found in redis.config file\n",
    "redis_host = \"localhost\"\n",
    "redis_port = 6379\n",
    "redis_password = \"\"\n",
    "p = redis.ConnectionPool()"
   ]
  },
  {
   "cell_type": "markdown",
   "metadata": {},
   "source": [
    "#### Create_KLStore (name, data-source, query-string, position1, position2, direction)\n",
    "This function creates in Redis a KL store with name \"name\" using the data source found in \"data-source\". Data sources can be found in an JSON files described later and for the scope of this project can be either a csv file, a relational database or an excel file."
   ]
  },
  {
   "cell_type": "markdown",
   "metadata": {},
   "source": [
    "In the case of a **csv file**, \"query-string\" is empty and \"position1\" and \"position2\" two integer numbers specifying the column positions that will be used to form the (u,v) pairs of S (as described earlier). Data sources can be found in this [JSON file](csvdatasource.json)."
   ]
  },
  {
   "cell_type": "code",
   "execution_count": 5,
   "metadata": {},
   "outputs": [],
   "source": [
    "def create_KLStore_csv (name, data_source, query_string, position1, position2, direction):\n",
    "\n",
    "    # create the Redis Connection object\n",
    "    try:\n",
    "        r = redis.Redis(connection_pool=p, host = redis_host, port = redis_port, password = redis_password, db = 0, decode_responses = True)\n",
    "\n",
    "        csvinfo = pd.read_json(data_source)\n",
    "        \n",
    "        #get the csv filename\n",
    "        file = csvinfo.datasource.filename\n",
    "\n",
    "        # read the csv file\n",
    "        df = pd.read_csv(file)\n",
    "\n",
    "        #push data in the right Redis list\n",
    "        if direction == 1:\n",
    "            for index,i in df.iterrows():\n",
    "                nm = name+\":\"+ str(i[position1 - 1])\n",
    "                r.lpush(nm ,str(i[position2 - 1]))\n",
    "        elif direction == 2:\n",
    "            for index,i in df.iterrows():\n",
    "                nm = name+\":\"+ str(i[position2 - 1])\n",
    "                r.lpush(nm,str(i[position1 - 1]))\n",
    "\n",
    "    except Exception as e:\n",
    "        print(e)\n"
   ]
  },
  {
   "cell_type": "markdown",
   "metadata": {},
   "source": [
    "In the case of an **excel**, \"query-string\" contains the index of the worksheet and \"position1\" and \"position2\" two integer numbers specifying the column positions that will be used to form the (u,v) pairs ofS (as described earlier). Data sources can be found in this [JSON file](exceldatasource.json)."
   ]
  },
  {
   "cell_type": "code",
   "execution_count": 6,
   "metadata": {},
   "outputs": [],
   "source": [
    "def create_KLStore_excel (name, data_source, query_string, position1, position2, direction):\n",
    "\n",
    "    # create the Redis Connection object\n",
    "    try:\n",
    "        r = redis.Redis(connection_pool=p, host = redis_host, port = redis_port, password = redis_password, db = 0, decode_responses = True)\n",
    "\n",
    "        excelinfo = pd.read_json(data_source)\n",
    "\n",
    "        #get the excel filename\n",
    "        file = excelinfo.datasource.filename\n",
    "\n",
    "        #read the excel file\n",
    "        df = pd.read_excel(file, query_string)\n",
    "        \n",
    "        if direction == 1: #push data in the KL1\n",
    "            for index,i in df.iterrows():\n",
    "                u = name + str(i[position1 - 1])\n",
    "                r.lpush(u ,str(i[position2 - 1]))\n",
    "        elif direction == 2:\n",
    "            for index,i in df.iterrows(): #push data in the KL2\n",
    "                u = name + str(i[position2 - 1])\n",
    "                r.lpush(u,str(i[position1 - 1]))\n",
    "\n",
    "    except Exception as e:\n",
    "        print(e)"
   ]
  },
  {
   "cell_type": "markdown",
   "metadata": {},
   "source": [
    "In the case of a **relational database**, \"query-string\" is an SQL statementin the form SELECT col1, col2 WHERE \"etc\". \"direction\" has the value 1 or 2, specifying whether KL1(D) or KL2(D) should be implemented."
   ]
  },
  {
   "cell_type": "markdown",
   "metadata": {},
   "source": [
    "#### FIlter_KLStore(name1, expression)\n",
    "This function gets a KL store in Redis named \"name1\" and a string called \"expression\" representing a valid python boolean expression and applies this expression on each element of each list of \"name1\". If the return value is true, the element remains in the list, otherwise it is removed. Come up with a convention on how the element of the list is mentioned within the \"expression\". \\\n",
    "`scan_iter()` is superior to `keys()` for large numbers of keys because it gives you an iterator you can use rather than trying to load all the keys into memory. So I am using `scan_iter()` to get all keys from the store matching a pattern and check if expression true one-by-one:"
   ]
  },
  {
   "cell_type": "code",
   "execution_count": 7,
   "metadata": {},
   "outputs": [],
   "source": [
    "def filter_klstore (name1, expression):\n",
    "    try:\n",
    "        r = redis.Redis(connection_pool=p, host = redis_host, port = redis_port, password = redis_password, db = 0, decode_responses = True)\n",
    "        # parse all the keys in name1 KLstore\n",
    "        for key in r.scan_iter(name1 + ':*'):\n",
    "            # i is for index in list\n",
    "            i = -1\n",
    "            # get every value of key\n",
    "            for value in r.lrange(key,0,-1):\n",
    "                i = i + 1\n",
    "                if not eval(expression):\n",
    "                    r.lrem(key,i,value) #remove (u,v) if expression is FALSE\n",
    "\n",
    "    except Exception as e:\n",
    "        print(e)"
   ]
  },
  {
   "cell_type": "markdown",
   "metadata": {},
   "source": [
    "#### Apply_KLStore (name1, func)\n",
    "This function gets a KL store in Redis named \"name1\" and a python function named \"func\" -which gets a string and returns a string –and applies \"func\" on each elementof a list, for all lists of the KL store \"name1\",transforming thus the lists of the KL store."
   ]
  },
  {
   "cell_type": "code",
   "execution_count": 8,
   "metadata": {},
   "outputs": [],
   "source": [
    "def apply_klstore (name1, func):\n",
    "\n",
    "    # create the Redis Connection object\n",
    "    try:\n",
    "        r = redis.Redis(connection_pool=p, host = redis_host, port = redis_port, password = redis_password, db = 0, decode_responses = True)\n",
    "        # parse all the keys in name1 KLstore\n",
    "        for key in r.scan_iter(name1 + ':*'):\n",
    "            i = -1 #list index\n",
    "            for value in r.lrange(key,0,-1): # get every value of key\n",
    "                # update every value of the key by calling function func that returns a string\n",
    "                i = i + 1\n",
    "                r.lset(key,i,func(value))\n",
    "\n",
    "    except Exception as e:\n",
    "        print(e)"
   ]
  },
  {
   "cell_type": "markdown",
   "metadata": {},
   "source": [
    "#### Aggr_KLStore (name1, aggr)\n",
    "This function gets a KL store in Redis named \"name1\" and a string named \"aggr\" that can have one of the values “avg/sum/count/min/max”and aggregates each list of the KL store \"name1\" according to the specified aggregate, updating the list with just one item, the result of the aggregation. "
   ]
  },
  {
   "cell_type": "code",
   "execution_count": 9,
   "metadata": {},
   "outputs": [],
   "source": [
    "def aggr_klstore (name1, aggr):\n",
    "\n",
    " # create the Redis Connection object\n",
    "    try:\n",
    "        r = redis.Redis(connection_pool=p, host = redis_host, port = redis_port, password = redis_password, db = 0, decode_responses = True)\n",
    "        # parse all the keys in name1 KLStore\n",
    "        for key in r.scan_iter(name1 + ':*'):\n",
    "            list = r.lrange(key,0,-1)\n",
    "            #transform string values into integers\n",
    "            numbers = [int(v) for v in list]\n",
    "            i = -1\n",
    "            for value in r.lrange(key,0,-1):\n",
    "                i = i + 1\n",
    "                r.lrem(key,i,value) # delete (u,v)\n",
    "            if aggr:\n",
    "                # add the value of aggregation in klstore\n",
    "                if str(aggr) == 'max':\n",
    "                    r.lpush(key,max(numbers))\n",
    "                elif str(aggr) == 'min':\n",
    "                    r.lpush(key,min(numbers))\n",
    "                elif str(aggr) == 'count':\n",
    "                    r.lpush(key,len(numbers))\n",
    "                elif str(aggr) == 'sum':\n",
    "                    r.lpush(key,sum(numbers))\n",
    "                elif str(aggr) == 'avg':\n",
    "                    r.lpush(key, sum(numbers)/len(numbers))\n",
    "    except Exception as e:\n",
    "        print(e)\n"
   ]
  },
  {
   "cell_type": "markdown",
   "metadata": {},
   "source": [
    "#### LookUp_KLStore(name1, name2)\n",
    "This function gets two KL stores named \"name1\" and \"name2\" and for each element e of a list L in \"name1\", performs a lookup for e in the keys of \"name2\", gets the list L’ of the matched key, \n",
    "and replaces e in L with the elements of L’. This should happen for all lists in \"name1\". "
   ]
  },
  {
   "cell_type": "code",
   "execution_count": 10,
   "metadata": {},
   "outputs": [],
   "source": [
    "def lookUp_klstore (name1, name2):\n",
    "\n",
    " # create the Redis Connection object\n",
    "    try:\n",
    "        r = redis.Redis(connection_pool=p, host = redis_host, port = redis_port, password = redis_password, db = 0, decode_responses = True)\n",
    "        keys1 = r.smembers(name1)\n",
    "        keys2 = r.smembers(name2)\n",
    "        # parse all the keys in name1 KLstore\n",
    "        for key in keys1:\n",
    "            list1 = r.lrange(key1, 0, -1)\n",
    "            for value1 in list1:\n",
    "                if value1.strip() in keys2:\n",
    "                    list2 = r.lrange(value1.strip(), 0, -1) #add value1 in list of name2\n",
    "                    r.lrem(key1, 0, value1)\n",
    "\n",
    "                    for value2 in list2:\n",
    "                        r.rpush(key1, value2)\n",
    "\n",
    "    except Exception as e:\n",
    "        print(e)\n",
    "        "
   ]
  },
  {
   "cell_type": "markdown",
   "metadata": {},
   "source": [
    "### Testing Time"
   ]
  },
  {
   "cell_type": "code",
   "execution_count": 11,
   "metadata": {},
   "outputs": [],
   "source": [
    "def exfunc(a):\n",
    "    return a + \"example function applied\""
   ]
  },
  {
   "cell_type": "code",
   "execution_count": 12,
   "metadata": {},
   "outputs": [],
   "source": [
    "filter_klstore('k1','len(value) < 1')\n",
    "apply_klstore('k1', exfunc)\n",
    "aggr_klstore ('k1', 'max')\n",
    "lookUp_klstore('k1','k2')"
   ]
  },
  {
   "cell_type": "markdown",
   "metadata": {},
   "source": [
    "## References\n",
    "\n",
    "[Installation guide](https://realpython.com/python-redis/) \\\n",
    "[redis-py's Documentation](https://redis-py.readthedocs.io/en/stable/) /\n",
    "[All Redis commands](https://cheatography.com/tasjaevan/cheat-sheets/redis/) \\\n",
    "[Redis Lists Tutorial](https://www.tutorialspoint.com/redis/redis_lists.htm) \\\n",
    "[Reading and Writing Data with redis-py](https://redislabs.com/lp/python-redis/) \\\n",
    "[Real-World Redis Tips](https://blog.heroku.com/real-world-redis-tips)"
   ]
  }
 ],
 "metadata": {
  "kernelspec": {
   "display_name": "Python 3",
   "language": "python",
   "name": "python3"
  },
  "language_info": {
   "codemirror_mode": {
    "name": "ipython",
    "version": 3
   },
   "file_extension": ".py",
   "mimetype": "text/x-python",
   "name": "python",
   "nbconvert_exporter": "python",
   "pygments_lexer": "ipython3",
   "version": "3.6.9"
  }
 },
 "nbformat": 4,
 "nbformat_minor": 4
}
