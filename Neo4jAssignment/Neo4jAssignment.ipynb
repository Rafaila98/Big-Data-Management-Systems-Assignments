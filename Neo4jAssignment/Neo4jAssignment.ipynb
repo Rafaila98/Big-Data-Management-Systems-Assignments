{
 "cells": [
  {
   "cell_type": "markdown",
   "metadata": {},
   "source": [
    "# Neo4j Assignment\n",
    "Rafaila Galanopoulou 8160018 \n",
    "\n",
    "Big Data Management Systems Course 2020 \n",
    "\n",
    "Professor: Damianos Chatziantoniou"
   ]
  },
  {
   "cell_type": "markdown",
   "metadata": {},
   "source": [
    "## Download the Dataset"
   ]
  },
  {
   "cell_type": "markdown",
   "metadata": {},
   "source": [
    "1. Download the data from this [source](https://snap.stanford.edu/data/soc-Pokec.html) \n",
    "2. To unzip the files run in terminal the following command: \n",
    "\n",
    "`gzip -d *.gz` \n",
    "\n",
    "3. To select the id, age and geneder columns, knwowing that they are the 1st, 4th and 8th columns correspondingly, run the following command:\n",
    " \n",
    "`cut -f1,4,8 soc-pokec-profiles.txt > profiles.txt`\n",
    "\n"
   ]
  },
  {
   "cell_type": "markdown",
   "metadata": {},
   "source": [
    "## Data Transformation"
   ]
  },
  {
   "cell_type": "code",
   "execution_count": 1,
   "metadata": {},
   "outputs": [],
   "source": [
    "import pandas as pd"
   ]
  },
  {
   "cell_type": "code",
   "execution_count": 16,
   "metadata": {},
   "outputs": [],
   "source": [
    "filename1 = \"profiles.txt\"\n",
    "filename2 = \"soc-pokec-relationships.txt\""
   ]
  },
  {
   "cell_type": "code",
   "execution_count": 8,
   "metadata": {},
   "outputs": [],
   "source": [
    "df = pd.read_csv(filename1, sep='\\t', header = None)"
   ]
  },
  {
   "cell_type": "code",
   "execution_count": 11,
   "metadata": {},
   "outputs": [],
   "source": [
    "df.columns = ['user_id', 'gender', 'age']"
   ]
  },
  {
   "cell_type": "code",
   "execution_count": 12,
   "metadata": {},
   "outputs": [
    {
     "data": {
      "text/html": [
       "<div>\n",
       "<style scoped>\n",
       "    .dataframe tbody tr th:only-of-type {\n",
       "        vertical-align: middle;\n",
       "    }\n",
       "\n",
       "    .dataframe tbody tr th {\n",
       "        vertical-align: top;\n",
       "    }\n",
       "\n",
       "    .dataframe thead th {\n",
       "        text-align: right;\n",
       "    }\n",
       "</style>\n",
       "<table border=\"1\" class=\"dataframe\">\n",
       "  <thead>\n",
       "    <tr style=\"text-align: right;\">\n",
       "      <th></th>\n",
       "      <th>user_id</th>\n",
       "      <th>gender</th>\n",
       "      <th>age</th>\n",
       "    </tr>\n",
       "  </thead>\n",
       "  <tbody>\n",
       "    <tr>\n",
       "      <td>0</td>\n",
       "      <td>1</td>\n",
       "      <td>1.0</td>\n",
       "      <td>26.0</td>\n",
       "    </tr>\n",
       "    <tr>\n",
       "      <td>1</td>\n",
       "      <td>2</td>\n",
       "      <td>0.0</td>\n",
       "      <td>0.0</td>\n",
       "    </tr>\n",
       "    <tr>\n",
       "      <td>2</td>\n",
       "      <td>16</td>\n",
       "      <td>1.0</td>\n",
       "      <td>23.0</td>\n",
       "    </tr>\n",
       "    <tr>\n",
       "      <td>3</td>\n",
       "      <td>3</td>\n",
       "      <td>1.0</td>\n",
       "      <td>29.0</td>\n",
       "    </tr>\n",
       "    <tr>\n",
       "      <td>4</td>\n",
       "      <td>4</td>\n",
       "      <td>0.0</td>\n",
       "      <td>26.0</td>\n",
       "    </tr>\n",
       "    <tr>\n",
       "      <td>...</td>\n",
       "      <td>...</td>\n",
       "      <td>...</td>\n",
       "      <td>...</td>\n",
       "    </tr>\n",
       "    <tr>\n",
       "      <td>1632798</td>\n",
       "      <td>1632799</td>\n",
       "      <td>0.0</td>\n",
       "      <td>23.0</td>\n",
       "    </tr>\n",
       "    <tr>\n",
       "      <td>1632799</td>\n",
       "      <td>1632800</td>\n",
       "      <td>1.0</td>\n",
       "      <td>33.0</td>\n",
       "    </tr>\n",
       "    <tr>\n",
       "      <td>1632800</td>\n",
       "      <td>1632801</td>\n",
       "      <td>1.0</td>\n",
       "      <td>0.0</td>\n",
       "    </tr>\n",
       "    <tr>\n",
       "      <td>1632801</td>\n",
       "      <td>1632802</td>\n",
       "      <td>1.0</td>\n",
       "      <td>19.0</td>\n",
       "    </tr>\n",
       "    <tr>\n",
       "      <td>1632802</td>\n",
       "      <td>1632803</td>\n",
       "      <td>0.0</td>\n",
       "      <td>44.0</td>\n",
       "    </tr>\n",
       "  </tbody>\n",
       "</table>\n",
       "<p>1632803 rows × 3 columns</p>\n",
       "</div>"
      ],
      "text/plain": [
       "         user_id  gender   age\n",
       "0              1     1.0  26.0\n",
       "1              2     0.0   0.0\n",
       "2             16     1.0  23.0\n",
       "3              3     1.0  29.0\n",
       "4              4     0.0  26.0\n",
       "...          ...     ...   ...\n",
       "1632798  1632799     0.0  23.0\n",
       "1632799  1632800     1.0  33.0\n",
       "1632800  1632801     1.0   0.0\n",
       "1632801  1632802     1.0  19.0\n",
       "1632802  1632803     0.0  44.0\n",
       "\n",
       "[1632803 rows x 3 columns]"
      ]
     },
     "execution_count": 12,
     "metadata": {},
     "output_type": "execute_result"
    }
   ],
   "source": [
    "df"
   ]
  },
  {
   "cell_type": "code",
   "execution_count": 17,
   "metadata": {},
   "outputs": [],
   "source": [
    "df2 = pd.read_csv(filename2, sep='\\t', header = None)"
   ]
  },
  {
   "cell_type": "code",
   "execution_count": 19,
   "metadata": {},
   "outputs": [],
   "source": [
    "df2.columns = ['user', 'frienduser']"
   ]
  },
  {
   "cell_type": "code",
   "execution_count": 20,
   "metadata": {},
   "outputs": [
    {
     "data": {
      "text/html": [
       "<div>\n",
       "<style scoped>\n",
       "    .dataframe tbody tr th:only-of-type {\n",
       "        vertical-align: middle;\n",
       "    }\n",
       "\n",
       "    .dataframe tbody tr th {\n",
       "        vertical-align: top;\n",
       "    }\n",
       "\n",
       "    .dataframe thead th {\n",
       "        text-align: right;\n",
       "    }\n",
       "</style>\n",
       "<table border=\"1\" class=\"dataframe\">\n",
       "  <thead>\n",
       "    <tr style=\"text-align: right;\">\n",
       "      <th></th>\n",
       "      <th>user</th>\n",
       "      <th>frienduser</th>\n",
       "    </tr>\n",
       "  </thead>\n",
       "  <tbody>\n",
       "    <tr>\n",
       "      <td>0</td>\n",
       "      <td>1</td>\n",
       "      <td>13</td>\n",
       "    </tr>\n",
       "    <tr>\n",
       "      <td>1</td>\n",
       "      <td>1</td>\n",
       "      <td>11</td>\n",
       "    </tr>\n",
       "    <tr>\n",
       "      <td>2</td>\n",
       "      <td>1</td>\n",
       "      <td>6</td>\n",
       "    </tr>\n",
       "    <tr>\n",
       "      <td>3</td>\n",
       "      <td>1</td>\n",
       "      <td>3</td>\n",
       "    </tr>\n",
       "    <tr>\n",
       "      <td>4</td>\n",
       "      <td>1</td>\n",
       "      <td>4</td>\n",
       "    </tr>\n",
       "    <tr>\n",
       "      <td>...</td>\n",
       "      <td>...</td>\n",
       "      <td>...</td>\n",
       "    </tr>\n",
       "    <tr>\n",
       "      <td>30622559</td>\n",
       "      <td>1632798</td>\n",
       "      <td>1632578</td>\n",
       "    </tr>\n",
       "    <tr>\n",
       "      <td>30622560</td>\n",
       "      <td>1632798</td>\n",
       "      <td>865841</td>\n",
       "    </tr>\n",
       "    <tr>\n",
       "      <td>30622561</td>\n",
       "      <td>1632802</td>\n",
       "      <td>1632637</td>\n",
       "    </tr>\n",
       "    <tr>\n",
       "      <td>30622562</td>\n",
       "      <td>1632802</td>\n",
       "      <td>1632736</td>\n",
       "    </tr>\n",
       "    <tr>\n",
       "      <td>30622563</td>\n",
       "      <td>1632803</td>\n",
       "      <td>1632405</td>\n",
       "    </tr>\n",
       "  </tbody>\n",
       "</table>\n",
       "<p>30622564 rows × 2 columns</p>\n",
       "</div>"
      ],
      "text/plain": [
       "             user  frienduser\n",
       "0               1          13\n",
       "1               1          11\n",
       "2               1           6\n",
       "3               1           3\n",
       "4               1           4\n",
       "...           ...         ...\n",
       "30622559  1632798     1632578\n",
       "30622560  1632798      865841\n",
       "30622561  1632802     1632637\n",
       "30622562  1632802     1632736\n",
       "30622563  1632803     1632405\n",
       "\n",
       "[30622564 rows x 2 columns]"
      ]
     },
     "execution_count": 20,
     "metadata": {},
     "output_type": "execute_result"
    }
   ],
   "source": [
    "df2"
   ]
  },
  {
   "cell_type": "code",
   "execution_count": 22,
   "metadata": {},
   "outputs": [],
   "source": [
    "df.to_csv('profiles.csv', index = False)\n",
    "df2.to_csv('relationships.csv', index = False)"
   ]
  },
  {
   "cell_type": "markdown",
   "metadata": {},
   "source": [
    "## Load data in MySQL"
   ]
  },
  {
   "cell_type": "markdown",
   "metadata": {},
   "source": [
    "```\n",
    "mysql> CREATE TABLE profiles (id INT NOT NULL, gender INT NOT NULL, AGE INT NOT NULL, PRIMARY KEY (id));\n",
    "Query OK, 0 rows affected (0.11 sec)\n",
    "\n",
    "mysql> LOAD DATA LOCAL INFILE '~/Documents/8th/Big-Data-Management-Systems-Assignments/Neo4jAssignment/profiles.csv' INTO TABLE profiles FIELDS TERMINATED BY ',' LINES TERMINATED BY '\\n';\n",
    "Query OK, 1632804 rows affected, 329 warnings (12.55 sec)\n",
    "Records: 1632804  Deleted: 0  Skipped: 0  Warnings: 329\n",
    "\n",
    "mysql> CREATE TABLE friends (userid  INT NOT NULL, friendsid INT NOT NULL, FOREIGN KEY (userid) REFERENCES profiles (id));\n",
    "Query OK, 0 rows affected (0.07 sec)\n",
    "\n",
    "mysql> LOAD DATA LOCAL INFILE '~/Documents/8th/Big-Data-Management-Systems-Assignments/Neo4jAssignment/relationships.csv' INTO TABLE friends FIELDS TERMINATED BY ',' LINES TERMINATED BY '\\n';\n",
    "Query OK, 30622565 rows affected, 2 warnings (9 min 35.31 sec)\n",
    "Records: 30622565  Deleted: 0  Skipped: 0  Warnings: 2\n",
    "\n",
    "mysql> SELECT userid,COUNT(\\*) FROM friends GROUP BY userid;\n",
    "\n",
    "1432694 rows in set (14.45 sec)\n",
    "\n",
    "mysql> SELECT a.userid, a.friendsid, COUNT(b.friendsid) AS numberoff FROM friends AS a LEFT JOIN friends AS b ON a.friendsid = b.userid GROUP BY a.userid, a.friendsid;\n",
    "\n",
    "\n",
    "mysql> SELECT id, COUNT(CASE WHEN profiles.age>30 THEN friendsid END) AS friends30 FROM friends LEFT JOIN profiles ON profiles.id = friends.userid GROUP BY id;\n",
    "\n",
    "1432694 rows in set (2 min 46.77 sec)\n",
    "\n",
    "\n",
    "mysql> SELECT userid, aprof.gender AS gender, COUNT(friends.friendsid) FROM friends LEFT JOIN profiles as aprof ON aprof.id=friends.userid LEFT JOIN profiles as bprof ON bprof.id=friends.userid GROUP BY userid, aprof.gender, bprof.gender HAVING aprof.gender=1;\n",
    "\n",
    "715979 rows in set (3 min 40.82 sec)\n",
    "```\n",
    "\n"
   ]
  },
  {
   "cell_type": "markdown",
   "metadata": {},
   "source": [
    "## Load data in Neo4j"
   ]
  },
  {
   "cell_type": "markdown",
   "metadata": {},
   "source": [
    "Firstly, we create the nodes by running the following command:\n",
    "\n",
    "```:auto USING PERIODIC COMMIT\n",
    "LOAD CSV WITH HEADERS FROM \"file:///profiles.csv\" AS row\n",
    "FIELDTERMINATOR ';'\n",
    "CREATE (:Profile {userid: toInteger(row.user), age: toInteger(row.age), gender: row.gender})```"
   ]
  },
  {
   "cell_type": "markdown",
   "metadata": {},
   "source": [
    "Then, we create the relationships between the nodes who are friends by running the following command:\n",
    "\n",
    "```:auto USING PERIODIC COMMIT\n",
    "LOAD CSV WITH HEADERS FROM \"file:///relationships.csv\" AS row\n",
    "FIELDTERMINATOR ';'\n",
    "MATCH (p1:Profile {userid: toInteger(row.user) })\n",
    "MATCH (p2:Profile {userid: toInteger(row.friend) })\n",
    "CREATE (p1)-[:isfriendwith]->(p2);```"
   ]
  },
  {
   "cell_type": "markdown",
   "metadata": {},
   "source": [
    "## Performance Comments"
   ]
  },
  {
   "cell_type": "markdown",
   "metadata": {},
   "source": [
    "|Description | MySQL | Neo4j |\n",
    "| :--- | --- | --- |\n",
    "| Load profiles' data| 12.55 sec | 21204 ms|\n",
    "| Load relationships' data| 9 min 35.31 sec| |\n",
    "| Run 1st query | 14.45 sec | |\n",
    "| Run 2nd query|  | |\n",
    "| Run 3rd query| 2 min 46.77 sec | |\n",
    "| Run 4th query| 3 min 40.82 sec | |\n",
    "\n"
   ]
  },
  {
   "cell_type": "markdown",
   "metadata": {},
   "source": [
    "## References\n",
    "\n",
    "<a id=\"1\">[1]</a> \n",
    "Ian Robinson, Jim Webber, and Emil Eifrem. 2015. *Graph Databases: New Opportunities for Connected Data* (2nd. ed.). O’Reilly Media, Inc.\n",
    "\n",
    "<a id=\"2\">[2]</a> [Installation guide]()\n",
    "\n",
    "<a id=\"3\">[3]</a> [Neo4j Documentation]()\n",
    "\n",
    "<a id=\"4\">[4]</a> [All Neo4j commands]() \n",
    "\n",
    "<a id=\"5\">[5]</a> [Tutorial]() \n",
    "\n",
    "<a id=\"6\">[6]</a> [Reading and Writing Data with neo4j video](https://www.youtube.com/watch?v=7vWEqm2evdw) \n",
    "\n",
    "<a id=\"7\">[7]</a> [Import data in sql from a .csv file](https://medium.com/@AviGoom/how-to-import-a-csv-file-into-a-mysql-database-ef8860878a68) "
   ]
  }
 ],
 "metadata": {
  "kernelspec": {
   "display_name": "Python 3",
   "language": "python",
   "name": "python3"
  },
  "language_info": {
   "codemirror_mode": {
    "name": "ipython",
    "version": 3
   },
   "file_extension": ".py",
   "mimetype": "text/x-python",
   "name": "python",
   "nbconvert_exporter": "python",
   "pygments_lexer": "ipython3",
   "version": "3.6.9"
  }
 },
 "nbformat": 4,
 "nbformat_minor": 4
}
