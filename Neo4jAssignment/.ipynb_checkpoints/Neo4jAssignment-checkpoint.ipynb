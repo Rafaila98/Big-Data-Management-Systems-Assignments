{
 "cells": [
  {
   "cell_type": "markdown",
   "metadata": {},
   "source": [
    "# Neo4j Assignment\n",
    "Rafaila Galanopoulou 8160018 \n",
    "\n",
    "Big Data Management Systems Course 2020 \n",
    "\n",
    "Professor: Damianos Chatziantoniou"
   ]
  },
  {
   "cell_type": "markdown",
   "metadata": {},
   "source": [
    "## Download the Dataset"
   ]
  },
  {
   "cell_type": "markdown",
   "metadata": {},
   "source": [
    "1. Download the data from this [source](https://snap.stanford.edu/data/soc-Pokec.html) \n",
    "2. To unzip the files run in terminal the following command: \n",
    "\n",
    "`gzip -d *.gz` \n",
    "\n",
    "3. To select the id, age and geneder columns, knwowing that they are the 1st, 4th and 8th columns correspondingly, run the following command:\n",
    " \n",
    "`cut -f1,4,8 soc-pokec-profiles.txt > profiles.txt`\n",
    "\n"
   ]
  },
  {
   "cell_type": "markdown",
   "metadata": {},
   "source": [
    "## Data Transformation"
   ]
  },
  {
   "cell_type": "code",
   "execution_count": 1,
   "metadata": {},
   "outputs": [],
   "source": [
    "import pandas as pd"
   ]
  },
  {
   "cell_type": "code",
   "execution_count": 2,
   "metadata": {},
   "outputs": [],
   "source": [
    "filename1 = \"profiles.txt\"\n",
    "filename2 = \"soc-pokec-relationships.txt\""
   ]
  },
  {
   "cell_type": "code",
   "execution_count": 3,
   "metadata": {},
   "outputs": [],
   "source": [
    "df = pd.read_csv(filename1, sep='\\t', header = None)"
   ]
  },
  {
   "cell_type": "code",
   "execution_count": 4,
   "metadata": {},
   "outputs": [],
   "source": [
    "df.columns = ['user_id', 'gender', 'age']"
   ]
  },
  {
   "cell_type": "code",
   "execution_count": 5,
   "metadata": {},
   "outputs": [
    {
     "data": {
      "text/html": [
       "<div>\n",
       "<style scoped>\n",
       "    .dataframe tbody tr th:only-of-type {\n",
       "        vertical-align: middle;\n",
       "    }\n",
       "\n",
       "    .dataframe tbody tr th {\n",
       "        vertical-align: top;\n",
       "    }\n",
       "\n",
       "    .dataframe thead th {\n",
       "        text-align: right;\n",
       "    }\n",
       "</style>\n",
       "<table border=\"1\" class=\"dataframe\">\n",
       "  <thead>\n",
       "    <tr style=\"text-align: right;\">\n",
       "      <th></th>\n",
       "      <th>user_id</th>\n",
       "      <th>gender</th>\n",
       "      <th>age</th>\n",
       "    </tr>\n",
       "  </thead>\n",
       "  <tbody>\n",
       "    <tr>\n",
       "      <td>0</td>\n",
       "      <td>1</td>\n",
       "      <td>1.0</td>\n",
       "      <td>26.0</td>\n",
       "    </tr>\n",
       "    <tr>\n",
       "      <td>1</td>\n",
       "      <td>2</td>\n",
       "      <td>0.0</td>\n",
       "      <td>0.0</td>\n",
       "    </tr>\n",
       "    <tr>\n",
       "      <td>2</td>\n",
       "      <td>16</td>\n",
       "      <td>1.0</td>\n",
       "      <td>23.0</td>\n",
       "    </tr>\n",
       "    <tr>\n",
       "      <td>3</td>\n",
       "      <td>3</td>\n",
       "      <td>1.0</td>\n",
       "      <td>29.0</td>\n",
       "    </tr>\n",
       "    <tr>\n",
       "      <td>4</td>\n",
       "      <td>4</td>\n",
       "      <td>0.0</td>\n",
       "      <td>26.0</td>\n",
       "    </tr>\n",
       "    <tr>\n",
       "      <td>...</td>\n",
       "      <td>...</td>\n",
       "      <td>...</td>\n",
       "      <td>...</td>\n",
       "    </tr>\n",
       "    <tr>\n",
       "      <td>1632798</td>\n",
       "      <td>1632799</td>\n",
       "      <td>0.0</td>\n",
       "      <td>23.0</td>\n",
       "    </tr>\n",
       "    <tr>\n",
       "      <td>1632799</td>\n",
       "      <td>1632800</td>\n",
       "      <td>1.0</td>\n",
       "      <td>33.0</td>\n",
       "    </tr>\n",
       "    <tr>\n",
       "      <td>1632800</td>\n",
       "      <td>1632801</td>\n",
       "      <td>1.0</td>\n",
       "      <td>0.0</td>\n",
       "    </tr>\n",
       "    <tr>\n",
       "      <td>1632801</td>\n",
       "      <td>1632802</td>\n",
       "      <td>1.0</td>\n",
       "      <td>19.0</td>\n",
       "    </tr>\n",
       "    <tr>\n",
       "      <td>1632802</td>\n",
       "      <td>1632803</td>\n",
       "      <td>0.0</td>\n",
       "      <td>44.0</td>\n",
       "    </tr>\n",
       "  </tbody>\n",
       "</table>\n",
       "<p>1632803 rows × 3 columns</p>\n",
       "</div>"
      ],
      "text/plain": [
       "         user_id  gender   age\n",
       "0              1     1.0  26.0\n",
       "1              2     0.0   0.0\n",
       "2             16     1.0  23.0\n",
       "3              3     1.0  29.0\n",
       "4              4     0.0  26.0\n",
       "...          ...     ...   ...\n",
       "1632798  1632799     0.0  23.0\n",
       "1632799  1632800     1.0  33.0\n",
       "1632800  1632801     1.0   0.0\n",
       "1632801  1632802     1.0  19.0\n",
       "1632802  1632803     0.0  44.0\n",
       "\n",
       "[1632803 rows x 3 columns]"
      ]
     },
     "execution_count": 5,
     "metadata": {},
     "output_type": "execute_result"
    }
   ],
   "source": [
    "df"
   ]
  },
  {
   "cell_type": "code",
   "execution_count": 6,
   "metadata": {},
   "outputs": [],
   "source": [
    "df2 = pd.read_csv(filename2, sep='\\t', header = None)"
   ]
  },
  {
   "cell_type": "code",
   "execution_count": 7,
   "metadata": {},
   "outputs": [],
   "source": [
    "df2.columns = ['user', 'frienduser']"
   ]
  },
  {
   "cell_type": "code",
   "execution_count": 8,
   "metadata": {},
   "outputs": [
    {
     "data": {
      "text/html": [
       "<div>\n",
       "<style scoped>\n",
       "    .dataframe tbody tr th:only-of-type {\n",
       "        vertical-align: middle;\n",
       "    }\n",
       "\n",
       "    .dataframe tbody tr th {\n",
       "        vertical-align: top;\n",
       "    }\n",
       "\n",
       "    .dataframe thead th {\n",
       "        text-align: right;\n",
       "    }\n",
       "</style>\n",
       "<table border=\"1\" class=\"dataframe\">\n",
       "  <thead>\n",
       "    <tr style=\"text-align: right;\">\n",
       "      <th></th>\n",
       "      <th>user</th>\n",
       "      <th>frienduser</th>\n",
       "    </tr>\n",
       "  </thead>\n",
       "  <tbody>\n",
       "    <tr>\n",
       "      <td>0</td>\n",
       "      <td>1</td>\n",
       "      <td>13</td>\n",
       "    </tr>\n",
       "    <tr>\n",
       "      <td>1</td>\n",
       "      <td>1</td>\n",
       "      <td>11</td>\n",
       "    </tr>\n",
       "    <tr>\n",
       "      <td>2</td>\n",
       "      <td>1</td>\n",
       "      <td>6</td>\n",
       "    </tr>\n",
       "    <tr>\n",
       "      <td>3</td>\n",
       "      <td>1</td>\n",
       "      <td>3</td>\n",
       "    </tr>\n",
       "    <tr>\n",
       "      <td>4</td>\n",
       "      <td>1</td>\n",
       "      <td>4</td>\n",
       "    </tr>\n",
       "    <tr>\n",
       "      <td>...</td>\n",
       "      <td>...</td>\n",
       "      <td>...</td>\n",
       "    </tr>\n",
       "    <tr>\n",
       "      <td>30622559</td>\n",
       "      <td>1632798</td>\n",
       "      <td>1632578</td>\n",
       "    </tr>\n",
       "    <tr>\n",
       "      <td>30622560</td>\n",
       "      <td>1632798</td>\n",
       "      <td>865841</td>\n",
       "    </tr>\n",
       "    <tr>\n",
       "      <td>30622561</td>\n",
       "      <td>1632802</td>\n",
       "      <td>1632637</td>\n",
       "    </tr>\n",
       "    <tr>\n",
       "      <td>30622562</td>\n",
       "      <td>1632802</td>\n",
       "      <td>1632736</td>\n",
       "    </tr>\n",
       "    <tr>\n",
       "      <td>30622563</td>\n",
       "      <td>1632803</td>\n",
       "      <td>1632405</td>\n",
       "    </tr>\n",
       "  </tbody>\n",
       "</table>\n",
       "<p>30622564 rows × 2 columns</p>\n",
       "</div>"
      ],
      "text/plain": [
       "             user  frienduser\n",
       "0               1          13\n",
       "1               1          11\n",
       "2               1           6\n",
       "3               1           3\n",
       "4               1           4\n",
       "...           ...         ...\n",
       "30622559  1632798     1632578\n",
       "30622560  1632798      865841\n",
       "30622561  1632802     1632637\n",
       "30622562  1632802     1632736\n",
       "30622563  1632803     1632405\n",
       "\n",
       "[30622564 rows x 2 columns]"
      ]
     },
     "execution_count": 8,
     "metadata": {},
     "output_type": "execute_result"
    }
   ],
   "source": [
    "df2"
   ]
  },
  {
   "cell_type": "code",
   "execution_count": 9,
   "metadata": {},
   "outputs": [],
   "source": [
    "df.to_csv('profiles.csv', index = False, header = False)\n",
    "df2.to_csv('relationships.csv', index = False, header = False)"
   ]
  },
  {
   "cell_type": "markdown",
   "metadata": {},
   "source": [
    "## Load data in MySQL"
   ]
  },
  {
   "cell_type": "markdown",
   "metadata": {},
   "source": [
    "#### 1. Create table with profiles\n",
    "```mysql> CREATE TABLE profiles (id INT NOT NULL, gender INT NOT NULL, AGE INT NOT NULL, PRIMARY KEY (id)); ```\n",
    "Query OK, 0 rows affected (0.11 sec)\n",
    "\n",
    "#### 2. Fill profiles' table with data from .csv source\n",
    "```mysql> LOAD DATA LOCAL INFILE '~/Documents/8th/Big-Data-Management-Systems-Assignments/Neo4jAssignment/profiles.csv' INTO TABLE profiles FIELDS TERMINATED BY ',' LINES TERMINATED BY '\\n';```\n",
    "Query OK, 1632804 rows affected, 329 warnings (12.55 sec)\n",
    "Records: 1632804  Deleted: 0  Skipped: 0  Warnings: 329\n",
    "\n",
    "#### 3. Create table with relationships\n",
    "```mysql> CREATE TABLE friends (userid  INT NOT NULL, friendsid INT NOT NULL, FOREIGN KEY (userid) REFERENCES profiles (id));```\n",
    "Query OK, 0 rows affected (0.07 sec)\n",
    "\n",
    "#### 4. Fill relationships' table with data from .csv source\n",
    "```mysql> LOAD DATA LOCAL INFILE '~/Documents/8th/Big-Data-Management-Systems-Assignments/Neo4jAssignment/relationships.csv' INTO TABLE friends FIELDS TERMINATED BY ',' LINES TERMINATED BY '\\n';```\n",
    "Query OK, 30622565 rows affected, 2 warnings (9 min 35.31 sec)\n",
    "Records: 30622565  Deleted: 0  Skipped: 0  Warnings: 2\n",
    "\n",
    "### Run the queries:\n",
    "\n",
    "###### 1. For each user, count his/her friends\n",
    "```mysql> SELECT userid,COUNT(\\*) FROM friends GROUP BY userid;```\n",
    "\n",
    "1432694 rows in set (14.45 sec)\n",
    "\n",
    "###### 2. For each user, count his/her friends of friends\n",
    "```mysql> SELECT a.userid, a.friendsid, COUNT(b.friendsid) AS numberoff FROM friends AS a LEFT JOIN friends AS b ON a.friendsid = b.userid GROUP BY a.userid, a.friendsid;```\n",
    "\n",
    "1421423 rows in set (1 min 17.43 sec)\n",
    "\n",
    "###### 3. For each user, count his/her friends that are over 30\n",
    "```mysql> SELECT id, COUNT(CASE WHEN profiles.age>30 THEN friendsid END) AS friends30 FROM friends LEFT JOIN profiles ON profiles.id = friends.userid GROUP BY id;```\n",
    "\n",
    "1432694 rows in set (2 min 46.77 sec)\n",
    "\n",
    "###### 4. For each male user, count how many male and female friends he is having\n",
    "```mysql> SELECT userid, aprof.gender AS gender, COUNT(friends.friendsid) FROM friends LEFT JOIN profiles as aprof ON aprof.id=friends.userid LEFT JOIN profiles as bprof ON bprof.id=friends.userid GROUP BY userid, aprof.gender, bprof.gender HAVING aprof.gender=1;```\n",
    "\n",
    "715979 rows in set (3 min 40.82 sec)\n",
    "\n"
   ]
  },
  {
   "cell_type": "markdown",
   "metadata": {},
   "source": [
    "## Load data in Neo4j"
   ]
  },
  {
   "cell_type": "markdown",
   "metadata": {},
   "source": [
    "#### 1. Create the nodes\n",
    "```:auto USING PERIODIC COMMIT\n",
    "LOAD CSV FROM \"file:///profiles.csv\" AS row\n",
    "FIELDTERMINATOR ','\n",
    "CREATE (:Profile {userId: toInteger(row[0]), age: toInteger(row[1]), gender: row[2]})```\n",
    "\n",
    "Added 1632803 labels, created 1632803 nodes, set 4898083 properties, completed after 80515 ms.\n",
    "\n",
    "Ideally, we create an index on userId to optimize performance \n",
    "```CREATE INDEX userId FOR (n:Profile) ON (n.age, n.gender).```\n",
    "\n",
    "#### 2. Create the relationships between the nodes who are friends by running the following command:\n",
    "\n",
    "```:auto USING PERIODIC COMMIT\n",
    "LOAD CSV FROM \"file:///relationships.csv\" AS row\n",
    "FIELDTERMINATOR ','\n",
    "MATCH (p1:Profile {userId: toInteger(row[0])})\n",
    "MATCH (p2:Profile {userId: toInteger(row[1])})\n",
    "MERGE (p1)-[:FRIEND_WITH]->(p2)```\n",
    "\n",
    "![relationships](images/relationships.png)\n",
    "\n",
    "The files should be saved in the Neo4j import file. Usually is located in `/var/lib/neo4j/import/`. The files can be copied in this file by executing the `sudo cp *.csv /var/lib/neo4j/import/` command in terminal. \n",
    "\n",
    "![graphimage](images/graph.png)\n",
    "\n",
    "### Run the queries:\n",
    "\n",
    "###### 1. For each user, count his/her friends\n",
    "```MATCH (prof: Profile)-[:FRIEND_WITH]->(fr: Profile)\n",
    "RETURN prof.userId, count(fr.userId) AS friend```\n",
    "\n",
    "Started streaming 1522 records after 2 ms and completed after 7 ms, displaying first 1000 rows.\n",
    "\n",
    "###### 2. For each user, count his/her friends of friends\n",
    "```MATCH (user:Profile)-[r:FRIEND_WITH]->(friend:Profile)-[r2:FRIEND_WITH]->(ffriend:Profile)\n",
    "RETURN user.userId as user, friend.userIid as friend, count(ffriend.userId) as friendsoffriend```\n",
    "\n",
    "Started streaming 1422 records after 1 ms and completed after 3 ms, displaying first 1000 rows.\n",
    "\n",
    "###### 3. For each user, count his/her friends that are over 30\n",
    "```MATCH (user:Profile)-[r:FRIEND_WITH]->(friend:Profile)\n",
    "WHERE friend.age > 30\n",
    "RETURN user.userId as user, count(r) as friends```\n",
    "\n",
    "Started streaming 569 records after 2 ms and completed after 1326 ms.\n",
    "\n",
    "\n",
    "###### 4. For each male user, count how many male and female friends he is having\n",
    "```MATCH (user:Profile {gender: 1})-[r:FRIEND_WITH]->(friend:Profile)\n",
    "RETURN user.userIdas user, f.gender AS gender, count(friend.gender='1') as menFriends, count(friend.gender='0') as womenFriends```\n",
    "\n",
    "Started streaming 1310 records after 1 ms and completed after 2 ms, displaying first 1000 rows.\n",
    "But it presents the same number of women and men friends of each user which is **wrong**. So I tried to calcluate the sum of men friends (as it equals to 1) and from all friends to substract men and calculate the women friends, which works correctly. \n",
    "\n",
    "```MATCH (user:Profile {gender: 1})-[r:FRIEND_WITH]->(friend:Profile)\n",
    "WHERE EXISTS(user.gender) and EXISTS(friend.gender)\n",
    "RETURN user.userId as user, sum(toInteger(friend.gender)) AS menfriends, count(friend.userId)-sum(toInteger(friend.gender)) AS womenfriends```\n",
    "\n",
    "Started streaming 670 records after 1 ms and completed after 2192 ms."
   ]
  },
  {
   "cell_type": "markdown",
   "metadata": {},
   "source": [
    "## Performance Comments"
   ]
  },
  {
   "cell_type": "markdown",
   "metadata": {},
   "source": [
    "|Description | MySQL | Neo4j for 84,000 relationships|\n",
    "| :--- | --- | --- |\n",
    "| Load profiles' data| 12.55 sec | 21204 ms|\n",
    "| Load relationships' data| 9 min 35.31 sec| 3 days (84,000 relationships)|\n",
    "| Run 1st query | 14.45 sec | 7 ms |\n",
    "| Run 2nd query| 1 min 17.43 sec | 3 ms|\n",
    "| Run 3rd query| 2 min 46.77 sec | 1326 ms |\n",
    "| Run 4th query| 3 min 40.82 sec | 2192 ms |\n",
    "\n",
    "Although graph databases are considered to increase the sheer performance when dealing with connected data in comparison with relational databases, the machine I used seems to be a boundary to see that difference during the relationships' creation stage. Apart from that, in contrast to relational databases, where join-intensive query performance deteriorates as the dataset gets bigger, with a graph database performance tends to remain relatively constant, even as the dataset grows. This is because queries are localized to a portion of the graph. As a result, the execution time for each query is proportional only to the size of the part of the graph traversed to satisfy that query, rather than the size of the overall graph and that is proved in the table above. "
   ]
  },
  {
   "cell_type": "markdown",
   "metadata": {},
   "source": [
    "## References\n",
    "\n",
    "<a id=\"1\">[1]</a> \n",
    "Ian Robinson, Jim Webber, and Emil Eifrem. 2015. *Graph Databases: New Opportunities for Connected Data* (2nd. ed.). O’Reilly Media, Inc.\n",
    "\n",
    "<a id=\"2\">[2]</a> [Installation guide]()\n",
    "\n",
    "<a id=\"3\">[3]</a> [Neo4j Documentation]()\n",
    "\n",
    "<a id=\"4\">[4]</a> [All Neo4j commands]() \n",
    "\n",
    "<a id=\"5\">[5]</a> [Tutorial]() \n",
    "\n",
    "<a id=\"6\">[6]</a> [Reading and Writing Data with neo4j video](https://www.youtube.com/watch?v=7vWEqm2evdw) \n",
    "\n",
    "<a id=\"7\">[7]</a> [Import data in sql from a .csv file](https://medium.com/@AviGoom/how-to-import-a-csv-file-into-a-mysql-database-ef8860878a68) "
   ]
  }
 ],
 "metadata": {
  "kernelspec": {
   "display_name": "Python 3",
   "language": "python",
   "name": "python3"
  },
  "language_info": {
   "codemirror_mode": {
    "name": "ipython",
    "version": 3
   },
   "file_extension": ".py",
   "mimetype": "text/x-python",
   "name": "python",
   "nbconvert_exporter": "python",
   "pygments_lexer": "ipython3",
   "version": "3.6.9"
  }
 },
 "nbformat": 4,
 "nbformat_minor": 4
}
